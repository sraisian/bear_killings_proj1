{
 "cells": [
  {
   "cell_type": "code",
   "execution_count": 1,
   "metadata": {},
   "outputs": [],
   "source": [
    "#import packages\n",
    "import pandas as pd\n",
    "import csv\n",
    "import os\n",
    "import numpy as np"
   ]
  },
  {
   "cell_type": "code",
   "execution_count": 2,
   "metadata": {},
   "outputs": [
    {
     "data": {
      "text/html": [
       "<div>\n",
       "<style scoped>\n",
       "    .dataframe tbody tr th:only-of-type {\n",
       "        vertical-align: middle;\n",
       "    }\n",
       "\n",
       "    .dataframe tbody tr th {\n",
       "        vertical-align: top;\n",
       "    }\n",
       "\n",
       "    .dataframe thead th {\n",
       "        text-align: right;\n",
       "    }\n",
       "</style>\n",
       "<table border=\"1\" class=\"dataframe\">\n",
       "  <thead>\n",
       "    <tr style=\"text-align: right;\">\n",
       "      <th></th>\n",
       "      <th>Name</th>\n",
       "      <th>age</th>\n",
       "      <th>gender</th>\n",
       "      <th>Date</th>\n",
       "      <th>Month</th>\n",
       "      <th>Year</th>\n",
       "      <th>Type</th>\n",
       "      <th>Location</th>\n",
       "      <th>Description</th>\n",
       "      <th>Type of bear</th>\n",
       "      <th>Hunter</th>\n",
       "      <th>Grizzly</th>\n",
       "      <th>Hikers</th>\n",
       "      <th>Only one killed</th>\n",
       "    </tr>\n",
       "  </thead>\n",
       "  <tbody>\n",
       "    <tr>\n",
       "      <th>0</th>\n",
       "      <td>Mary Porterfield</td>\n",
       "      <td>3</td>\n",
       "      <td>female</td>\n",
       "      <td>5/19/1901</td>\n",
       "      <td>5</td>\n",
       "      <td>1901</td>\n",
       "      <td>Wild</td>\n",
       "      <td>Job, West Virginia</td>\n",
       "      <td>The children were gathering flowers near their...</td>\n",
       "      <td>Black bear</td>\n",
       "      <td>0</td>\n",
       "      <td>0</td>\n",
       "      <td>0</td>\n",
       "      <td>0</td>\n",
       "    </tr>\n",
       "    <tr>\n",
       "      <th>1</th>\n",
       "      <td>Wilie Porterfield</td>\n",
       "      <td>5</td>\n",
       "      <td>male</td>\n",
       "      <td>5/19/1901</td>\n",
       "      <td>5</td>\n",
       "      <td>1901</td>\n",
       "      <td>Wild</td>\n",
       "      <td>Job, West Virginia</td>\n",
       "      <td>The children were gathering flowers near their...</td>\n",
       "      <td>Black bear</td>\n",
       "      <td>0</td>\n",
       "      <td>0</td>\n",
       "      <td>0</td>\n",
       "      <td>0</td>\n",
       "    </tr>\n",
       "    <tr>\n",
       "      <th>2</th>\n",
       "      <td>Henry Porterfield</td>\n",
       "      <td>7</td>\n",
       "      <td>male</td>\n",
       "      <td>5/19/1901</td>\n",
       "      <td>5</td>\n",
       "      <td>1901</td>\n",
       "      <td>Wild</td>\n",
       "      <td>Job, West Virginia</td>\n",
       "      <td>The children were gathering flowers near their...</td>\n",
       "      <td>Black bear</td>\n",
       "      <td>0</td>\n",
       "      <td>0</td>\n",
       "      <td>0</td>\n",
       "      <td>0</td>\n",
       "    </tr>\n",
       "    <tr>\n",
       "      <th>3</th>\n",
       "      <td>John Dicht</td>\n",
       "      <td>18</td>\n",
       "      <td>male</td>\n",
       "      <td>11/24/1906</td>\n",
       "      <td>11</td>\n",
       "      <td>1906</td>\n",
       "      <td>Wild</td>\n",
       "      <td>Elk County, Pennsylvania</td>\n",
       "      <td>Thinking the bear was dead, Dicht began skinni...</td>\n",
       "      <td>Black bear</td>\n",
       "      <td>0</td>\n",
       "      <td>0</td>\n",
       "      <td>0</td>\n",
       "      <td>1</td>\n",
       "    </tr>\n",
       "    <tr>\n",
       "      <th>4</th>\n",
       "      <td>Baby Laird</td>\n",
       "      <td>1</td>\n",
       "      <td>NaN</td>\n",
       "      <td>10/5/1908</td>\n",
       "      <td>10</td>\n",
       "      <td>1908</td>\n",
       "      <td>Captive</td>\n",
       "      <td>Tucson, Arizona</td>\n",
       "      <td>After a bear escaped from a cage at Elysian Gr...</td>\n",
       "      <td>Black bear</td>\n",
       "      <td>0</td>\n",
       "      <td>0</td>\n",
       "      <td>0</td>\n",
       "      <td>1</td>\n",
       "    </tr>\n",
       "  </tbody>\n",
       "</table>\n",
       "</div>"
      ],
      "text/plain": [
       "                Name  age  gender        Date  Month  Year     Type  \\\n",
       "0   Mary Porterfield    3  female   5/19/1901      5  1901     Wild   \n",
       "1  Wilie Porterfield    5    male   5/19/1901      5  1901     Wild   \n",
       "2  Henry Porterfield    7    male   5/19/1901      5  1901     Wild   \n",
       "3         John Dicht   18    male  11/24/1906     11  1906     Wild   \n",
       "4         Baby Laird    1     NaN   10/5/1908     10  1908  Captive   \n",
       "\n",
       "                   Location  \\\n",
       "0        Job, West Virginia   \n",
       "1        Job, West Virginia   \n",
       "2        Job, West Virginia   \n",
       "3  Elk County, Pennsylvania   \n",
       "4           Tucson, Arizona   \n",
       "\n",
       "                                         Description Type of bear  Hunter  \\\n",
       "0  The children were gathering flowers near their...   Black bear       0   \n",
       "1  The children were gathering flowers near their...   Black bear       0   \n",
       "2  The children were gathering flowers near their...   Black bear       0   \n",
       "3  Thinking the bear was dead, Dicht began skinni...   Black bear       0   \n",
       "4  After a bear escaped from a cage at Elysian Gr...   Black bear       0   \n",
       "\n",
       "   Grizzly  Hikers  Only one killed  \n",
       "0        0       0                0  \n",
       "1        0       0                0  \n",
       "2        0       0                0  \n",
       "3        0       0                1  \n",
       "4        0       0                1  "
      ]
     },
     "execution_count": 2,
     "metadata": {},
     "output_type": "execute_result"
    }
   ],
   "source": [
    "#read csv file\n",
    "datafile = \"north_america_bear_killings.csv\"\n",
    "#import csv file into df \n",
    "purchdata= pd.read_csv(datafile)\n",
    "purchdata.head()"
   ]
  },
  {
   "cell_type": "code",
   "execution_count": null,
   "metadata": {},
   "outputs": [],
   "source": [
    "### 1. WHO DIES FROM BEARS?#####\n",
    "# find gender distribution of victims \n"
   ]
  },
  {
   "cell_type": "code",
   "execution_count": null,
   "metadata": {},
   "outputs": [],
   "source": [
    "# find age demographics of victims\n"
   ]
  },
  {
   "cell_type": "code",
   "execution_count": null,
   "metadata": {},
   "outputs": [],
   "source": [
    "### 2. HOW DID THEY DIE? \n",
    "# Captive/Wild distribution \n"
   ]
  },
  {
   "cell_type": "code",
   "execution_count": null,
   "metadata": {},
   "outputs": [],
   "source": [
    "# distribution of hikers/hikers/other\n"
   ]
  },
  {
   "cell_type": "code",
   "execution_count": null,
   "metadata": {},
   "outputs": [],
   "source": [
    "# type of bear\n"
   ]
  },
  {
   "cell_type": "code",
   "execution_count": null,
   "metadata": {},
   "outputs": [],
   "source": [
    "### 3. Have killings decreased over time? \n",
    "# Linear timeline of killings\n"
   ]
  },
  {
   "cell_type": "code",
   "execution_count": null,
   "metadata": {},
   "outputs": [],
   "source": [
    "# is there a cyclical trend/linear regresssion"
   ]
  },
  {
   "cell_type": "code",
   "execution_count": null,
   "metadata": {},
   "outputs": [],
   "source": [
    "### 4. WHERE DO THEY OCCUR? \n",
    "# Locations (map view)\n"
   ]
  },
  {
   "cell_type": "code",
   "execution_count": null,
   "metadata": {},
   "outputs": [],
   "source": [
    "# Which parks have killings occured/highest death count? \n"
   ]
  },
  {
   "cell_type": "code",
   "execution_count": null,
   "metadata": {},
   "outputs": [],
   "source": [
    "# Which zoos have highest death count?\n"
   ]
  },
  {
   "cell_type": "code",
   "execution_count": null,
   "metadata": {},
   "outputs": [],
   "source": []
  }
 ],
 "metadata": {
  "kernelspec": {
   "display_name": "Python 3",
   "language": "python",
   "name": "python3"
  },
  "language_info": {
   "codemirror_mode": {
    "name": "ipython",
    "version": 3
   },
   "file_extension": ".py",
   "mimetype": "text/x-python",
   "name": "python",
   "nbconvert_exporter": "python",
   "pygments_lexer": "ipython3",
   "version": "3.6.9"
  }
 },
 "nbformat": 4,
 "nbformat_minor": 2
}

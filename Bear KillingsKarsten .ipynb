{
 "cells": [
  {
   "cell_type": "code",
   "execution_count": 1,
   "metadata": {},
   "outputs": [],
   "source": [
    "#import packages\n",
    "import pandas as pd\n",
    "import csv\n",
    "import os\n",
    "import numpy as np\n",
    "import matplotlib.pyplot as plt\n",
    "import matplotlib_venn\n",
    "from matplotlib_venn import venn2\n",
    "from matplotlib import rc"
   ]
  },
  {
   "cell_type": "code",
   "execution_count": 3,
   "metadata": {},
   "outputs": [
    {
     "data": {
      "text/html": [
       "<div>\n",
       "<style scoped>\n",
       "    .dataframe tbody tr th:only-of-type {\n",
       "        vertical-align: middle;\n",
       "    }\n",
       "\n",
       "    .dataframe tbody tr th {\n",
       "        vertical-align: top;\n",
       "    }\n",
       "\n",
       "    .dataframe thead th {\n",
       "        text-align: right;\n",
       "    }\n",
       "</style>\n",
       "<table border=\"1\" class=\"dataframe\">\n",
       "  <thead>\n",
       "    <tr style=\"text-align: right;\">\n",
       "      <th></th>\n",
       "      <th>age</th>\n",
       "      <th>gender</th>\n",
       "      <th>Hunter</th>\n",
       "      <th>Hikers</th>\n",
       "      <th>age_bins</th>\n",
       "      <th>age_range</th>\n",
       "    </tr>\n",
       "  </thead>\n",
       "  <tbody>\n",
       "    <tr>\n",
       "      <td>0</td>\n",
       "      <td>3.0</td>\n",
       "      <td>female</td>\n",
       "      <td>0</td>\n",
       "      <td>0</td>\n",
       "      <td>(0, 19]</td>\n",
       "      <td>Child</td>\n",
       "    </tr>\n",
       "    <tr>\n",
       "      <td>1</td>\n",
       "      <td>5.0</td>\n",
       "      <td>male</td>\n",
       "      <td>0</td>\n",
       "      <td>0</td>\n",
       "      <td>(0, 19]</td>\n",
       "      <td>Child</td>\n",
       "    </tr>\n",
       "    <tr>\n",
       "      <td>2</td>\n",
       "      <td>7.0</td>\n",
       "      <td>male</td>\n",
       "      <td>0</td>\n",
       "      <td>0</td>\n",
       "      <td>(0, 19]</td>\n",
       "      <td>Child</td>\n",
       "    </tr>\n",
       "    <tr>\n",
       "      <td>3</td>\n",
       "      <td>18.0</td>\n",
       "      <td>male</td>\n",
       "      <td>0</td>\n",
       "      <td>0</td>\n",
       "      <td>(0, 19]</td>\n",
       "      <td>Child</td>\n",
       "    </tr>\n",
       "    <tr>\n",
       "      <td>4</td>\n",
       "      <td>1.0</td>\n",
       "      <td>female</td>\n",
       "      <td>0</td>\n",
       "      <td>0</td>\n",
       "      <td>(0, 19]</td>\n",
       "      <td>Child</td>\n",
       "    </tr>\n",
       "  </tbody>\n",
       "</table>\n",
       "</div>"
      ],
      "text/plain": [
       "    age  gender  Hunter  Hikers age_bins age_range\n",
       "0   3.0  female       0       0  (0, 19]     Child\n",
       "1   5.0    male       0       0  (0, 19]     Child\n",
       "2   7.0    male       0       0  (0, 19]     Child\n",
       "3  18.0    male       0       0  (0, 19]     Child\n",
       "4   1.0  female       0       0  (0, 19]     Child"
      ]
     },
     "execution_count": 3,
     "metadata": {},
     "output_type": "execute_result"
    }
   ],
   "source": [
    "#read csv file\n",
    "datafile = \"north_america_bear_killings.csv\"\n",
    "#import csv file into df \n",
    "purchdata= pd.read_csv(datafile)\n",
    "bear_killings = purchdata.drop([\"Date\", \"Month\", \"Year\", \"Location\", \"Description\", \"Type of bear\", \"Grizzly\", \"Only one killed\"], axis=1)\n",
    "bear_killing_df = bear_killings.drop([\"Type\", \"Name\"], axis=1)\n",
    "bear_killing_df[\"age_bins\"] = pd.cut(x=bear_killing_df[\"age\"], bins = [0, 19, 39, 59, 79, 99])\n",
    "bear_killing_df[\"age_range\"] = pd.cut(x=bear_killing_df[\"age\"], bins = [0, 19, 39, 59, 79, 99], labels = [\"Child\", \"Young Adult\", \"Adult\", \"Senior\", \"Elderly\"])\n",
    "bear_killing_df.head()"
   ]
  },
  {
   "cell_type": "code",
   "execution_count": 4,
   "metadata": {},
   "outputs": [],
   "source": [
    "gender = bear_killing_df.groupby(\"gender\")\n",
    "female = gender.get_group(\"female\").count()\n",
    "female_count = female[\"gender\"]\n",
    "male = gender.get_group(\"male\").count()\n",
    "male_count = male[\"gender\"]\n",
    "hunters = bear_killing_df.groupby(\"Hunter\")\n",
    "hunter = hunters.get_group(int(1)).count()\n",
    "dead_hunters = hunter[\"Hunter\"]\n",
    "hikers = bear_killing_df.groupby(\"Hikers\")\n",
    "hiker = hikers.get_group(int(1)).count()\n",
    "dead_hikers = hiker[\"Hikers\"]\n",
    "female_df = gender.get_group(\"female\")\n",
    "female_hunters = female_df.groupby(\"Hunter\")\n",
    "female_hunter = female_hunters.get_group(int(1)).count()\n",
    "dead_female_hunters = female_hunter[\"Hunter\"]\n",
    "male_df = gender.get_group(\"male\")\n",
    "male_hunters = male_df.groupby(\"Hunter\")\n",
    "male_hunter = male_hunters.get_group(int(1)).count()\n",
    "dead_male_hunters = male_hunter[\"Hunter\"]\n",
    "male_hikers = male_df.groupby(\"Hikers\")\n",
    "male_hiker = male_hikers.get_group(int(1)).count()\n",
    "dead_male_hikers = male_hiker[\"Hikers\"]\n",
    "female_hikers = female_df.groupby(\"Hikers\")\n",
    "female_hiker = female_hikers.get_group(int(1)).count()\n",
    "dead_female_hikers = female_hiker[\"Hikers\"]\n",
    "age_range = bear_killing_df.groupby(\"age_range\")\n",
    "children = age_range.get_group(\"Child\").count()\n",
    "children_count = children[\"age_range\"]\n",
    "young_adult = age_range.get_group(\"Young Adult\").count()\n",
    "young_adult_count = young_adult[\"age_range\"]\n",
    "adult = age_range.get_group(\"Adult\").count()\n",
    "adult_count = adult[\"age_range\"]\n",
    "senior = age_range.get_group(\"Senior\").count()\n",
    "senior_count = senior[\"age_range\"]\n",
    "elderly = age_range.get_group(\"Elderly\").count()\n",
    "elderly_count = elderly[\"age_range\"]\n",
    "children_df = age_range.get_group(\"Child\")\n",
    "child_gender = children_df.groupby(\"gender\")\n",
    "young_adult_df = age_range.get_group(\"Young Adult\")\n",
    "young_adult_gender = young_adult_df.groupby(\"gender\")\n",
    "adult_df = age_range.get_group(\"Adult\")\n",
    "adult_gender = adult_df.groupby(\"gender\")\n",
    "senior_df = age_range.get_group(\"Senior\")\n",
    "senior_gender = senior_df.groupby(\"gender\")\n",
    "elderly_df = age_range.get_group(\"Elderly\")\n",
    "elderly_gender = elderly_df.groupby(\"gender\")\n",
    "child_female = child_gender.get_group(\"female\").count()\n",
    "child_female_count = child_female[\"gender\"]\n",
    "child_male = child_gender.get_group(\"male\").count()\n",
    "child_male_count = child_male[\"gender\"]\n",
    "young_adult_male = young_adult_gender.get_group(\"male\").count()\n",
    "young_adult_male_count = young_adult_male[\"gender\"]\n",
    "young_adult_female = young_adult_gender.get_group(\"female\").count()\n",
    "young_adult_female_count = young_adult_female[\"gender\"]\n",
    "adult_male = adult_gender.get_group(\"male\").count()\n",
    "adult_male_count = adult_male[\"gender\"]\n",
    "adult_female = adult_gender.get_group(\"female\").count()\n",
    "adult_female_count = adult_female[\"gender\"]\n",
    "senior_male = senior_gender.get_group(\"male\").count()\n",
    "senior_male_count = senior_male[\"gender\"]\n",
    "senior_female = senior_gender.get_group(\"female\").count()\n",
    "senior_female_count = senior_female[\"gender\"]\n",
    "elderly_female = elderly_gender.get_group(\"female\").count()\n",
    "elderly_female_count = elderly_female[\"gender\"]"
   ]
  },
  {
   "cell_type": "code",
   "execution_count": 5,
   "metadata": {},
   "outputs": [
    {
     "data": {
      "text/plain": [
       "44"
      ]
     },
     "execution_count": 5,
     "metadata": {},
     "output_type": "execute_result"
    }
   ],
   "source": [
    "female_count"
   ]
  },
  {
   "cell_type": "code",
   "execution_count": 6,
   "metadata": {},
   "outputs": [
    {
     "data": {
      "text/plain": [
       "122"
      ]
     },
     "execution_count": 6,
     "metadata": {},
     "output_type": "execute_result"
    }
   ],
   "source": [
    "male_count"
   ]
  },
  {
   "cell_type": "code",
   "execution_count": 7,
   "metadata": {},
   "outputs": [
    {
     "data": {
      "text/plain": [
       "6"
      ]
     },
     "execution_count": 7,
     "metadata": {},
     "output_type": "execute_result"
    }
   ],
   "source": [
    "dead_hikers"
   ]
  },
  {
   "cell_type": "code",
   "execution_count": 8,
   "metadata": {},
   "outputs": [
    {
     "data": {
      "text/plain": [
       "16"
      ]
     },
     "execution_count": 8,
     "metadata": {},
     "output_type": "execute_result"
    }
   ],
   "source": [
    "dead_hunters"
   ]
  },
  {
   "cell_type": "code",
   "execution_count": 9,
   "metadata": {},
   "outputs": [
    {
     "data": {
      "text/plain": [
       "1"
      ]
     },
     "execution_count": 9,
     "metadata": {},
     "output_type": "execute_result"
    }
   ],
   "source": [
    "dead_female_hunters"
   ]
  },
  {
   "cell_type": "code",
   "execution_count": 10,
   "metadata": {},
   "outputs": [
    {
     "data": {
      "text/plain": [
       "1"
      ]
     },
     "execution_count": 10,
     "metadata": {},
     "output_type": "execute_result"
    }
   ],
   "source": [
    "dead_female_hikers"
   ]
  },
  {
   "cell_type": "code",
   "execution_count": 11,
   "metadata": {},
   "outputs": [
    {
     "data": {
      "text/plain": [
       "15"
      ]
     },
     "execution_count": 11,
     "metadata": {},
     "output_type": "execute_result"
    }
   ],
   "source": [
    "dead_male_hunters"
   ]
  },
  {
   "cell_type": "code",
   "execution_count": 12,
   "metadata": {},
   "outputs": [
    {
     "data": {
      "text/plain": [
       "5"
      ]
     },
     "execution_count": 12,
     "metadata": {},
     "output_type": "execute_result"
    }
   ],
   "source": [
    "dead_male_hikers"
   ]
  },
  {
   "cell_type": "code",
   "execution_count": 13,
   "metadata": {},
   "outputs": [
    {
     "data": {
      "text/plain": [
       "41"
      ]
     },
     "execution_count": 13,
     "metadata": {},
     "output_type": "execute_result"
    }
   ],
   "source": [
    "children_count"
   ]
  },
  {
   "cell_type": "code",
   "execution_count": 14,
   "metadata": {},
   "outputs": [
    {
     "data": {
      "text/plain": [
       "54"
      ]
     },
     "execution_count": 14,
     "metadata": {},
     "output_type": "execute_result"
    }
   ],
   "source": [
    "young_adult_count"
   ]
  },
  {
   "cell_type": "code",
   "execution_count": 15,
   "metadata": {},
   "outputs": [
    {
     "data": {
      "text/plain": [
       "47"
      ]
     },
     "execution_count": 15,
     "metadata": {},
     "output_type": "execute_result"
    }
   ],
   "source": [
    "adult_count"
   ]
  },
  {
   "cell_type": "code",
   "execution_count": 16,
   "metadata": {},
   "outputs": [
    {
     "data": {
      "text/plain": [
       "23"
      ]
     },
     "execution_count": 16,
     "metadata": {},
     "output_type": "execute_result"
    }
   ],
   "source": [
    "senior_count"
   ]
  },
  {
   "cell_type": "code",
   "execution_count": 17,
   "metadata": {},
   "outputs": [
    {
     "data": {
      "text/plain": [
       "1"
      ]
     },
     "execution_count": 17,
     "metadata": {},
     "output_type": "execute_result"
    }
   ],
   "source": [
    "elderly_count"
   ]
  },
  {
   "cell_type": "code",
   "execution_count": 18,
   "metadata": {},
   "outputs": [
    {
     "data": {
      "text/plain": [
       "25"
      ]
     },
     "execution_count": 18,
     "metadata": {},
     "output_type": "execute_result"
    }
   ],
   "source": [
    "child_male_count"
   ]
  },
  {
   "cell_type": "code",
   "execution_count": 19,
   "metadata": {},
   "outputs": [
    {
     "data": {
      "text/plain": [
       "16"
      ]
     },
     "execution_count": 19,
     "metadata": {},
     "output_type": "execute_result"
    }
   ],
   "source": [
    "child_female_count"
   ]
  },
  {
   "cell_type": "code",
   "execution_count": 20,
   "metadata": {},
   "outputs": [
    {
     "data": {
      "text/plain": [
       "17"
      ]
     },
     "execution_count": 20,
     "metadata": {},
     "output_type": "execute_result"
    }
   ],
   "source": [
    "young_adult_female_count"
   ]
  },
  {
   "cell_type": "code",
   "execution_count": 21,
   "metadata": {},
   "outputs": [
    {
     "data": {
      "text/plain": [
       "37"
      ]
     },
     "execution_count": 21,
     "metadata": {},
     "output_type": "execute_result"
    }
   ],
   "source": [
    "young_adult_male_count"
   ]
  },
  {
   "cell_type": "code",
   "execution_count": 22,
   "metadata": {},
   "outputs": [
    {
     "data": {
      "text/plain": [
       "4"
      ]
     },
     "execution_count": 22,
     "metadata": {},
     "output_type": "execute_result"
    }
   ],
   "source": [
    "adult_female_count"
   ]
  },
  {
   "cell_type": "code",
   "execution_count": 23,
   "metadata": {},
   "outputs": [
    {
     "data": {
      "text/plain": [
       "43"
      ]
     },
     "execution_count": 23,
     "metadata": {},
     "output_type": "execute_result"
    }
   ],
   "source": [
    "adult_male_count"
   ]
  },
  {
   "cell_type": "code",
   "execution_count": 24,
   "metadata": {},
   "outputs": [
    {
     "data": {
      "text/plain": [
       "6"
      ]
     },
     "execution_count": 24,
     "metadata": {},
     "output_type": "execute_result"
    }
   ],
   "source": [
    "senior_female_count"
   ]
  },
  {
   "cell_type": "code",
   "execution_count": 25,
   "metadata": {},
   "outputs": [
    {
     "data": {
      "text/plain": [
       "17"
      ]
     },
     "execution_count": 25,
     "metadata": {},
     "output_type": "execute_result"
    }
   ],
   "source": [
    "senior_male_count"
   ]
  },
  {
   "cell_type": "code",
   "execution_count": 26,
   "metadata": {},
   "outputs": [
    {
     "data": {
      "text/plain": [
       "1"
      ]
     },
     "execution_count": 26,
     "metadata": {},
     "output_type": "execute_result"
    }
   ],
   "source": [
    "elderly_female_count"
   ]
  },
  {
   "cell_type": "code",
   "execution_count": 29,
   "metadata": {},
   "outputs": [
    {
     "data": {
      "image/png": "[encoded data removed]",
      "text/plain": [
       "<Figure size 432x288 with 1 Axes>"
      ]
     },
     "metadata": {
      "needs_background": "light"
     },
     "output_type": "display_data"
    }
   ],
   "source": [
    "rc('font', weight='bold')\n",
    "\n",
    "bars1 = [25, 37, 43, 17, 0]\n",
    "bars2 = [16, 17, 4, 6, 1]\n",
    " \n",
    "bars = np.add(bars1, bars2).tolist()\n",
    " \n",
    "r = [0,1,2,3,4]\n",
    " \n",
    "names = ['Child','Young Adult','Adult','Senior','Elderly']\n",
    "barWidth = 1\n",
    " \n",
    "plt.bar(r, bars1, color='blue', edgecolor='white', width=barWidth)\n",
    "\n",
    "plt.bar(r, bars2, bottom=bars1, color='red', edgecolor='white', width=barWidth)\n",
    "\n",
    "plt.xticks(r, names, fontweight='bold')\n",
    "plt.xlabel(\"group\")\n",
    "\n",
    "plt.show()"
   ]
  },
  {
   "cell_type": "code",
   "execution_count": 45,
   "metadata": {},
   "outputs": [
    {
     "data": {
      "image/png": "[encoded data removed]",
      "text/plain": [
       "<Figure size 432x288 with 1 Axes>"
      ]
     },
     "metadata": {},
     "output_type": "display_data"
    }
   ],
   "source": [
    "labels = \"The Rest\", \"Hunters\", \"Hikers\"\n",
    "sizes = [144, 16,6]\n",
    "explode = (0, 0, 0)  \n",
    "\n",
    "fig1, ax1 = plt.subplots()\n",
    "ax1.pie(sizes, explode=explode, labels=labels,\n",
    "        shadow=True, startangle=90)\n",
    "ax1.axis('equal') \n",
    "\n",
    "plt.show()"
   ]
  },
  {
   "cell_type": "code",
   "execution_count": 36,
   "metadata": {},
   "outputs": [
    {
     "data": {
      "image/png": "[encoded data removed]",
      "text/plain": [
       "<Figure size 432x288 with 1 Axes>"
      ]
     },
     "metadata": {},
     "output_type": "display_data"
    }
   ],
   "source": [
    "labels = \"Men\", \"Women\"\n",
    "sizes = [73.5, 26.5]\n",
    "explode = (0.1, 0,)  \n",
    "\n",
    "fig1, ax1 = plt.subplots()\n",
    "ax1.pie(sizes, explode=explode, labels=labels, autopct='%1.1f%%',\n",
    "        shadow=True, startangle=90)\n",
    "ax1.axis('equal') \n",
    "\n",
    "plt.show()"
   ]
  },
  {
   "cell_type": "code",
   "execution_count": 44,
   "metadata": {},
   "outputs": [
    {
     "data": {
      "image/png": "[encoded data removed]",
      "text/plain": [
       "<Figure size 432x288 with 1 Axes>"
      ]
     },
     "metadata": {},
     "output_type": "display_data"
    }
   ],
   "source": [
    "labels = \"Children\", \"Young Adults\", \"Adults\", \"Seniors\", \"Elderly\"\n",
    "sizes = [41, 54, 47, 23, 1]\n",
    "explode = (0, 0 , 0, 0, 0)  \n",
    "\n",
    "fig1, ax1 = plt.subplots()\n",
    "ax1.pie(sizes, explode=explode, labels=labels,autopct = \"\",\n",
    "        shadow=True, startangle=90)\n",
    "ax1.axis('equal') \n",
    "\n",
    "plt.show()"
   ]
  },
  {
   "cell_type": "code",
   "execution_count": 50,
   "metadata": {},
   "outputs": [
    {
     "data": {
      "text/plain": [
       "array([<matplotlib.axes._subplots.AxesSubplot object at 0x000002A9F790BF08>,\n",
       "       <matplotlib.axes._subplots.AxesSubplot object at 0x000002A9F7FE4D08>],\n",
       "      dtype=object)"
      ]
     },
     "execution_count": 50,
     "metadata": {},
     "output_type": "execute_result"
    },
    {
     "data": {
      "image/png": "[encoded data removed]",
      "text/plain": [
       "<Figure size 1152x576 with 2 Axes>"
      ]
     },
     "metadata": {},
     "output_type": "display_data"
    }
   ],
   "source": [
    "df = pd.DataFrame({'Male':[25, 37, 43, 17, 0], 'Female':[16, 17, 4, 6, 1]}, index=[\"Children\", \"Young Adults\", \"Adults\", \"Seniors\", \"Elderly\"] )\n",
    " \n",
    "df.plot(kind = \"pie\", subplots=True, figsize=(16,8))"
   ]
  },
  {
   "cell_type": "code",
   "execution_count": null,
   "metadata": {},
   "outputs": [],
   "source": [
    "#Who dies from bear attacks?\n",
    "\n",
    "#The short answer is adult men between the ages of 40 and 60. In every age category there were more males that died than females.\n",
    "#outside of our one elderly lady who apparently had an unfortunate run in with a bear in 2001 in New Mexico at the ripe age of 93.\n",
    "\n",
    "#Out of 166 recorded deaths, 22 occured while participating in a wildreness relate activity. 16 people died while hunting, while another 6\n",
    "#died while hiking. There was 1 woman hunting, and 1 woman hiking.\n",
    "\n",
    "#Aside from scrubbing the data this was pretty straight forward. Deciding the best way to visualize the important information without too many\n",
    "#colorful and overwhelming graphs was the hard part. "
   ]
  }
 ],
 "metadata": {
  "kernelspec": {
   "display_name": "Python 3",
   "language": "python",
   "name": "python3"
  },
  "language_info": {
   "codemirror_mode": {
    "name": "ipython",
    "version": 3
   },
   "file_extension": ".py",
   "mimetype": "text/x-python",
   "name": "python",
   "nbconvert_exporter": "python",
   "pygments_lexer": "ipython3",
   "version": "3.7.4"
  }
 },
 "nbformat": 4,
 "nbformat_minor": 2
}

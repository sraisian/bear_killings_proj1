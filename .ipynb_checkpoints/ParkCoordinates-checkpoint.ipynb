{
 "cells": [
  {
   "cell_type": "code",
   "execution_count": 35,
   "metadata": {},
   "outputs": [
    {
     "name": "stdout",
     "output_type": "stream",
     "text": [
      "\n",
      "    City: Glacier National Park, Montana\n",
      "    Latitude: 48.7596128\n",
      "    Longitude: -113.7870225\n",
      "    \n"
     ]
    }
   ],
   "source": [
    "### BELOW ARE PARK COORDINATES FOR PARK LOCATIONS #####\n",
    "# Dependencies\n",
    "import requests\n",
    "import json\n",
    "\n",
    "# Google developer API key\n",
    "from config2 import gkey\n",
    "\n",
    "# Target city\n",
    "target_city = \"Glacier National Park, Montana\"\n",
    "\n",
    "# Build the endpoint URL\n",
    "target_url = ('https://maps.googleapis.com/maps/api/geocode/json?'\n",
    "    'address={0}&key={1}').format(target_city, gkey)\n",
    "\n",
    "# Run a request to endpoint and convert result to json\n",
    "geo_data = requests.get(target_url).json()\n",
    "\n",
    "# Extract latitude and longitude\n",
    "lat = geo_data[\"results\"][0][\"geometry\"][\"location\"][\"lat\"]\n",
    "lng = geo_data[\"results\"][0][\"geometry\"][\"location\"][\"lng\"]\n",
    "\n",
    "# Print the latitude and longitude\n",
    "print('''\n",
    "    City: {0}\n",
    "    Latitude: {1}\n",
    "    Longitude: {2}\n",
    "    '''.format(target_city, lat, lng))"
   ]
  },
  {
   "cell_type": "code",
   "execution_count": 19,
   "metadata": {},
   "outputs": [
    {
     "name": "stdout",
     "output_type": "stream",
     "text": [
      "\n",
      "    City: Yellowstone National Park, Wyoming\n",
      "    Latitude: 44.427963\n",
      "    Longitude: -110.588455\n",
      "    \n"
     ]
    }
   ],
   "source": [
    "# Dependencies\n",
    "import requests\n",
    "import json\n",
    "\n",
    "# Google developer API key\n",
    "from config2 import gkey\n",
    "\n",
    "# Target city\n",
    "target_city = \"Yellowstone National Park, Wyoming\"\n",
    "\n",
    "# Build the endpoint URL\n",
    "target_url = ('https://maps.googleapis.com/maps/api/geocode/json?'\n",
    "    'address={0}&key={1}').format(target_city, gkey)\n",
    "\n",
    "# Run a request to endpoint and convert result to json\n",
    "geo_data = requests.get(target_url).json()\n",
    "\n",
    "# Extract latitude and longitude\n",
    "lat = geo_data[\"results\"][0][\"geometry\"][\"location\"][\"lat\"]\n",
    "lng = geo_data[\"results\"][0][\"geometry\"][\"location\"][\"lng\"]\n",
    "\n",
    "# Print the latitude and longitude\n",
    "print('''\n",
    "    City: {0}\n",
    "    Latitude: {1}\n",
    "    Longitude: {2}\n",
    "    '''.format(target_city, lat, lng))"
   ]
  },
  {
   "cell_type": "code",
   "execution_count": 20,
   "metadata": {},
   "outputs": [
    {
     "name": "stdout",
     "output_type": "stream",
     "text": [
      "\n",
      "    City: Algonquin Provincial Park, Ontario\n",
      "    Latitude: 45.8371591\n",
      "    Longitude: -78.3791239\n",
      "    \n"
     ]
    }
   ],
   "source": [
    "# Dependencies\n",
    "import requests\n",
    "import json\n",
    "\n",
    "# Google developer API key\n",
    "from config2 import gkey\n",
    "\n",
    "# Target city\n",
    "target_city = \"Algonquin Provincial Park, Ontario\"\n",
    "\n",
    "# Build the endpoint URL\n",
    "target_url = ('https://maps.googleapis.com/maps/api/geocode/json?'\n",
    "    'address={0}&key={1}').format(target_city, gkey)\n",
    "\n",
    "# Run a request to endpoint and convert result to json\n",
    "geo_data = requests.get(target_url).json()\n",
    "\n",
    "# Extract latitude and longitude\n",
    "lat = geo_data[\"results\"][0][\"geometry\"][\"location\"][\"lat\"]\n",
    "lng = geo_data[\"results\"][0][\"geometry\"][\"location\"][\"lng\"]\n",
    "\n",
    "# Print the latitude and longitude\n",
    "print('''\n",
    "    City: {0}\n",
    "    Latitude: {1}\n",
    "    Longitude: {2}\n",
    "    '''.format(target_city, lat, lng))"
   ]
  },
  {
   "cell_type": "code",
   "execution_count": 21,
   "metadata": {},
   "outputs": [
    {
     "name": "stdout",
     "output_type": "stream",
     "text": [
      "\n",
      "    City: Anchorage, Alaska\n",
      "    Latitude: 61.2180556\n",
      "    Longitude: -149.9002778\n",
      "    \n"
     ]
    }
   ],
   "source": [
    "# Dependencies\n",
    "import requests\n",
    "import json\n",
    "\n",
    "# Google developer API key\n",
    "from config2 import gkey\n",
    "\n",
    "# Target city\n",
    "target_city = \"Anchorage, Alaska\"\n",
    "\n",
    "# Build the endpoint URL\n",
    "target_url = ('https://maps.googleapis.com/maps/api/geocode/json?'\n",
    "    'address={0}&key={1}').format(target_city, gkey)\n",
    "\n",
    "# Run a request to endpoint and convert result to json\n",
    "geo_data = requests.get(target_url).json()\n",
    "\n",
    "# Extract latitude and longitude\n",
    "lat = geo_data[\"results\"][0][\"geometry\"][\"location\"][\"lat\"]\n",
    "lng = geo_data[\"results\"][0][\"geometry\"][\"location\"][\"lng\"]\n",
    "\n",
    "# Print the latitude and longitude\n",
    "print('''\n",
    "    City: {0}\n",
    "    Latitude: {1}\n",
    "    Longitude: {2}\n",
    "    '''.format(target_city, lat, lng))"
   ]
  },
  {
   "cell_type": "code",
   "execution_count": 22,
   "metadata": {},
   "outputs": [
    {
     "name": "stdout",
     "output_type": "stream",
     "text": [
      "\n",
      "    City: Job, West Virginia\n",
      "    Latitude: 38.8642774\n",
      "    Longitude: -79.5569984\n",
      "    \n"
     ]
    }
   ],
   "source": [
    "# Dependencies\n",
    "import requests\n",
    "import json\n",
    "\n",
    "# Google developer API key\n",
    "from config2 import gkey\n",
    "\n",
    "# Target city\n",
    "target_city = \"Job, West Virginia\"\n",
    "\n",
    "# Build the endpoint URL\n",
    "target_url = ('https://maps.googleapis.com/maps/api/geocode/json?'\n",
    "    'address={0}&key={1}').format(target_city, gkey)\n",
    "\n",
    "# Run a request to endpoint and convert result to json\n",
    "geo_data = requests.get(target_url).json()\n",
    "\n",
    "# Extract latitude and longitude\n",
    "lat = geo_data[\"results\"][0][\"geometry\"][\"location\"][\"lat\"]\n",
    "lng = geo_data[\"results\"][0][\"geometry\"][\"location\"][\"lng\"]\n",
    "\n",
    "# Print the latitude and longitude\n",
    "print('''\n",
    "    City: {0}\n",
    "    Latitude: {1}\n",
    "    Longitude: {2}\n",
    "    '''.format(target_city, lat, lng))"
   ]
  },
  {
   "cell_type": "code",
   "execution_count": 23,
   "metadata": {},
   "outputs": [
    {
     "name": "stdout",
     "output_type": "stream",
     "text": [
      "\n",
      "    City: Radium Hot Springs, British Columbia\n",
      "    Latitude: 50.6200385\n",
      "    Longitude: -116.0733586\n",
      "    \n"
     ]
    }
   ],
   "source": [
    "# Dependencies\n",
    "import requests\n",
    "import json\n",
    "\n",
    "# Google developer API key\n",
    "from config2 import gkey\n",
    "\n",
    "# Target city\n",
    "target_city = \"Radium Hot Springs, British Columbia\"\n",
    "\n",
    "# Build the endpoint URL\n",
    "target_url = ('https://maps.googleapis.com/maps/api/geocode/json?'\n",
    "    'address={0}&key={1}').format(target_city, gkey)\n",
    "\n",
    "# Run a request to endpoint and convert result to json\n",
    "geo_data = requests.get(target_url).json()\n",
    "\n",
    "# Extract latitude and longitude\n",
    "lat = geo_data[\"results\"][0][\"geometry\"][\"location\"][\"lat\"]\n",
    "lng = geo_data[\"results\"][0][\"geometry\"][\"location\"][\"lng\"]\n",
    "\n",
    "# Print the latitude and longitude\n",
    "print('''\n",
    "    City: {0}\n",
    "    Latitude: {1}\n",
    "    Longitude: {2}\n",
    "    '''.format(target_city, lat, lng))"
   ]
  },
  {
   "cell_type": "code",
   "execution_count": 24,
   "metadata": {},
   "outputs": [
    {
     "name": "stdout",
     "output_type": "stream",
     "text": [
      "\n",
      "    City: Fort Nelson, British Columbia\n",
      "    Latitude: 58.8050174\n",
      "    Longitude: -122.697236\n",
      "    \n"
     ]
    }
   ],
   "source": [
    "# Dependencies\n",
    "import requests\n",
    "import json\n",
    "\n",
    "# Google developer API key\n",
    "from config2 import gkey\n",
    "\n",
    "# Target city\n",
    "target_city = \"Fort Nelson, British Columbia\"\n",
    "\n",
    "# Build the endpoint URL\n",
    "target_url = ('https://maps.googleapis.com/maps/api/geocode/json?'\n",
    "    'address={0}&key={1}').format(target_city, gkey)\n",
    "\n",
    "# Run a request to endpoint and convert result to json\n",
    "geo_data = requests.get(target_url).json()\n",
    "\n",
    "# Extract latitude and longitude\n",
    "lat = geo_data[\"results\"][0][\"geometry\"][\"location\"][\"lat\"]\n",
    "lng = geo_data[\"results\"][0][\"geometry\"][\"location\"][\"lng\"]\n",
    "\n",
    "# Print the latitude and longitude\n",
    "print('''\n",
    "    City: {0}\n",
    "    Latitude: {1}\n",
    "    Longitude: {2}\n",
    "    '''.format(target_city, lat, lng))"
   ]
  },
  {
   "cell_type": "code",
   "execution_count": 34,
   "metadata": {},
   "outputs": [
    {
     "name": "stdout",
     "output_type": "stream",
     "text": [
      "\n",
      "    City: Jasper National Park, Alberta\n",
      "    Latitude: 52.873383\n",
      "    Longitude: -117.9542938\n",
      "    \n"
     ]
    }
   ],
   "source": [
    "# Dependencies\n",
    "import requests\n",
    "import json\n",
    "\n",
    "# Google developer API key\n",
    "from config2 import gkey\n",
    "\n",
    "# Target city\n",
    "target_city = \"Jasper National Park, Alberta\"\n",
    "\n",
    "# Build the endpoint URL\n",
    "target_url = ('https://maps.googleapis.com/maps/api/geocode/json?'\n",
    "    'address={0}&key={1}').format(target_city, gkey)\n",
    "\n",
    "# Run a request to endpoint and convert result to json\n",
    "geo_data = requests.get(target_url).json()\n",
    "\n",
    "# Extract latitude and longitude\n",
    "lat = geo_data[\"results\"][0][\"geometry\"][\"location\"][\"lat\"]\n",
    "lng = geo_data[\"results\"][0][\"geometry\"][\"location\"][\"lng\"]\n",
    "\n",
    "# Print the latitude and longitude\n",
    "print('''\n",
    "    City: {0}\n",
    "    Latitude: {1}\n",
    "    Longitude: {2}\n",
    "    '''.format(target_city, lat, lng))"
   ]
  },
  {
   "cell_type": "code",
   "execution_count": 25,
   "metadata": {},
   "outputs": [
    {
     "name": "stdout",
     "output_type": "stream",
     "text": [
      "\n",
      "    City: Ellsworth, Maine\n",
      "    Latitude: 44.5434095\n",
      "    Longitude: -68.4194641\n",
      "    \n"
     ]
    }
   ],
   "source": [
    "# Dependencies\n",
    "import requests\n",
    "import json\n",
    "\n",
    "# Google developer API key\n",
    "from config2 import gkey\n",
    "\n",
    "# Target city\n",
    "target_city = \"Ellsworth, Maine\"\n",
    "\n",
    "# Build the endpoint URL\n",
    "target_url = ('https://maps.googleapis.com/maps/api/geocode/json?'\n",
    "    'address={0}&key={1}').format(target_city, gkey)\n",
    "\n",
    "# Run a request to endpoint and convert result to json\n",
    "geo_data = requests.get(target_url).json()\n",
    "\n",
    "# Extract latitude and longitude\n",
    "lat = geo_data[\"results\"][0][\"geometry\"][\"location\"][\"lat\"]\n",
    "lng = geo_data[\"results\"][0][\"geometry\"][\"location\"][\"lng\"]\n",
    "\n",
    "# Print the latitude and longitude\n",
    "print('''\n",
    "    City: {0}\n",
    "    Latitude: {1}\n",
    "    Longitude: {2}\n",
    "    '''.format(target_city, lat, lng))"
   ]
  },
  {
   "cell_type": "code",
   "execution_count": 33,
   "metadata": {},
   "outputs": [
    {
     "name": "stdout",
     "output_type": "stream",
     "text": [
      "\n",
      "    City: Einarson Lake, Yukon\n",
      "    Latitude: 63.9232557\n",
      "    Longitude: -131.605785\n",
      "    \n"
     ]
    }
   ],
   "source": [
    "# Dependencies\n",
    "import requests\n",
    "import json\n",
    "\n",
    "# Google developer API key\n",
    "from config2 import gkey\n",
    "\n",
    "# Target city\n",
    "target_city = \"Einarson Lake, Yukon\"\n",
    "\n",
    "# Build the endpoint URL\n",
    "target_url = ('https://maps.googleapis.com/maps/api/geocode/json?'\n",
    "    'address={0}&key={1}').format(target_city, gkey)\n",
    "\n",
    "# Run a request to endpoint and convert result to json\n",
    "geo_data = requests.get(target_url).json()\n",
    "\n",
    "# Extract latitude and longitude\n",
    "lat = geo_data[\"results\"][0][\"geometry\"][\"location\"][\"lat\"]\n",
    "lng = geo_data[\"results\"][0][\"geometry\"][\"location\"][\"lng\"]\n",
    "\n",
    "# Print the latitude and longitude\n",
    "print('''\n",
    "    City: {0}\n",
    "    Latitude: {1}\n",
    "    Longitude: {2}\n",
    "    '''.format(target_city, lat, lng))"
   ]
  },
  {
   "cell_type": "code",
   "execution_count": 26,
   "metadata": {},
   "outputs": [
    {
     "name": "stdout",
     "output_type": "stream",
     "text": [
      "\n",
      "    City: Katmai National Park, Alaska\n",
      "    Latitude: 58.6125631\n",
      "    Longitude: -155.0631051\n",
      "    \n"
     ]
    }
   ],
   "source": [
    "# Dependencies\n",
    "import requests\n",
    "import json\n",
    "\n",
    "# Google developer API key\n",
    "from config2 import gkey\n",
    "\n",
    "# Target city\n",
    "target_city = \"Katmai National Park, Alaska\"\n",
    "\n",
    "# Build the endpoint URL\n",
    "target_url = ('https://maps.googleapis.com/maps/api/geocode/json?'\n",
    "    'address={0}&key={1}').format(target_city, gkey)\n",
    "\n",
    "# Run a request to endpoint and convert result to json\n",
    "geo_data = requests.get(target_url).json()\n",
    "\n",
    "# Extract latitude and longitude\n",
    "lat = geo_data[\"results\"][0][\"geometry\"][\"location\"][\"lat\"]\n",
    "lng = geo_data[\"results\"][0][\"geometry\"][\"location\"][\"lng\"]\n",
    "\n",
    "# Print the latitude and longitude\n",
    "print('''\n",
    "    City: {0}\n",
    "    Latitude: {1}\n",
    "    Longitude: {2}\n",
    "    '''.format(target_city, lat, lng))"
   ]
  },
  {
   "cell_type": "code",
   "execution_count": 27,
   "metadata": {},
   "outputs": [
    {
     "name": "stdout",
     "output_type": "stream",
     "text": [
      "\n",
      "    City: Liard River Hot Springs Provincial Park, British Columbia\n",
      "    Latitude: 59.4256421\n",
      "    Longitude: -126.1007951\n",
      "    \n"
     ]
    }
   ],
   "source": [
    "# Dependencies\n",
    "import requests\n",
    "import json\n",
    "\n",
    "# Google developer API key\n",
    "from config2 import gkey\n",
    "\n",
    "# Target city\n",
    "target_city = \"Liard River Hot Springs Provincial Park, British Columbia\"\n",
    "\n",
    "# Build the endpoint URL\n",
    "target_url = ('https://maps.googleapis.com/maps/api/geocode/json?'\n",
    "    'address={0}&key={1}').format(target_city, gkey)\n",
    "\n",
    "# Run a request to endpoint and convert result to json\n",
    "geo_data = requests.get(target_url).json()\n",
    "\n",
    "# Extract latitude and longitude\n",
    "lat = geo_data[\"results\"][0][\"geometry\"][\"location\"][\"lat\"]\n",
    "lng = geo_data[\"results\"][0][\"geometry\"][\"location\"][\"lng\"]\n",
    "\n",
    "# Print the latitude and longitude\n",
    "print('''\n",
    "    City: {0}\n",
    "    Latitude: {1}\n",
    "    Longitude: {2}\n",
    "    '''.format(target_city, lat, lng))"
   ]
  },
  {
   "cell_type": "code",
   "execution_count": 28,
   "metadata": {},
   "outputs": [
    {
     "name": "stdout",
     "output_type": "stream",
     "text": [
      "\n",
      "    City: Churchill, Manitoba\n",
      "    Latitude: 58.7684112\n",
      "    Longitude: -94.16496400000001\n",
      "    \n"
     ]
    }
   ],
   "source": [
    "# Dependencies\n",
    "import requests\n",
    "import json\n",
    "\n",
    "# Google developer API key\n",
    "from config2 import gkey\n",
    "\n",
    "# Target city\n",
    "target_city = \"Churchill, Manitoba\"\n",
    "\n",
    "# Build the endpoint URL\n",
    "target_url = ('https://maps.googleapis.com/maps/api/geocode/json?'\n",
    "    'address={0}&key={1}').format(target_city, gkey)\n",
    "\n",
    "# Run a request to endpoint and convert result to json\n",
    "geo_data = requests.get(target_url).json()\n",
    "\n",
    "# Extract latitude and longitude\n",
    "lat = geo_data[\"results\"][0][\"geometry\"][\"location\"][\"lat\"]\n",
    "lng = geo_data[\"results\"][0][\"geometry\"][\"location\"][\"lng\"]\n",
    "\n",
    "# Print the latitude and longitude\n",
    "print('''\n",
    "    City: {0}\n",
    "    Latitude: {1}\n",
    "    Longitude: {2}\n",
    "    '''.format(target_city, lat, lng))"
   ]
  },
  {
   "cell_type": "code",
   "execution_count": 29,
   "metadata": {},
   "outputs": [
    {
     "name": "stdout",
     "output_type": "stream",
     "text": [
      "\n",
      "    City: Zama City, Alberta\n",
      "    Latitude: 59.1523474\n",
      "    Longitude: -118.692777\n",
      "    \n"
     ]
    }
   ],
   "source": [
    "# Dependencies\n",
    "import requests\n",
    "import json\n",
    "\n",
    "# Google developer API key\n",
    "from config2 import gkey\n",
    "\n",
    "# Target city\n",
    "target_city = \"Zama City, Alberta\"\n",
    "\n",
    "# Build the endpoint URL\n",
    "target_url = ('https://maps.googleapis.com/maps/api/geocode/json?'\n",
    "    'address={0}&key={1}').format(target_city, gkey)\n",
    "\n",
    "# Run a request to endpoint and convert result to json\n",
    "geo_data = requests.get(target_url).json()\n",
    "\n",
    "# Extract latitude and longitude\n",
    "lat = geo_data[\"results\"][0][\"geometry\"][\"location\"][\"lat\"]\n",
    "lng = geo_data[\"results\"][0][\"geometry\"][\"location\"][\"lng\"]\n",
    "\n",
    "# Print the latitude and longitude\n",
    "print('''\n",
    "    City: {0}\n",
    "    Latitude: {1}\n",
    "    Longitude: {2}\n",
    "    '''.format(target_city, lat, lng))"
   ]
  },
  {
   "cell_type": "code",
   "execution_count": 30,
   "metadata": {},
   "outputs": [
    {
     "name": "stdout",
     "output_type": "stream",
     "text": [
      "\n",
      "    City: Sundre, Alberta\n",
      "    Latitude: 51.7970759\n",
      "    Longitude: -114.6393903\n",
      "    \n"
     ]
    }
   ],
   "source": [
    "# Dependencies\n",
    "import requests\n",
    "import json\n",
    "\n",
    "# Google developer API key\n",
    "from config2 import gkey\n",
    "\n",
    "# Target city\n",
    "target_city = \"Sundre, Alberta\"\n",
    "\n",
    "# Build the endpoint URL\n",
    "target_url = ('https://maps.googleapis.com/maps/api/geocode/json?'\n",
    "    'address={0}&key={1}').format(target_city, gkey)\n",
    "\n",
    "# Run a request to endpoint and convert result to json\n",
    "geo_data = requests.get(target_url).json()\n",
    "\n",
    "# Extract latitude and longitude\n",
    "lat = geo_data[\"results\"][0][\"geometry\"][\"location\"][\"lat\"]\n",
    "lng = geo_data[\"results\"][0][\"geometry\"][\"location\"][\"lng\"]\n",
    "\n",
    "# Print the latitude and longitude\n",
    "print('''\n",
    "    City: {0}\n",
    "    Latitude: {1}\n",
    "    Longitude: {2}\n",
    "    '''.format(target_city, lat, lng))"
   ]
  },
  {
   "cell_type": "code",
   "execution_count": 32,
   "metadata": {},
   "outputs": [
    {
     "name": "stdout",
     "output_type": "stream",
     "text": [
      "\n",
      "    City: Artic National Wildlife Refuge, Alaska\n",
      "    Latitude: 68.4313695\n",
      "    Longitude: -143.6909925\n",
      "    \n"
     ]
    }
   ],
   "source": [
    "# Dependencies\n",
    "import requests\n",
    "import json\n",
    "\n",
    "# Google developer API key\n",
    "from config2 import gkey\n",
    "\n",
    "# Target city\n",
    "target_city = \"Artic National Wildlife Refuge, Alaska\"\n",
    "\n",
    "# Build the endpoint URL\n",
    "target_url = ('https://maps.googleapis.com/maps/api/geocode/json?'\n",
    "    'address={0}&key={1}').format(target_city, gkey)\n",
    "\n",
    "# Run a request to endpoint and convert result to json\n",
    "geo_data = requests.get(target_url).json()\n",
    "\n",
    "# Extract latitude and longitude\n",
    "lat = geo_data[\"results\"][0][\"geometry\"][\"location\"][\"lat\"]\n",
    "lng = geo_data[\"results\"][0][\"geometry\"][\"location\"][\"lng\"]\n",
    "\n",
    "# Print the latitude and longitude\n",
    "print('''\n",
    "    City: {0}\n",
    "    Latitude: {1}\n",
    "    Longitude: {2}\n",
    "    '''.format(target_city, lat, lng))"
   ]
  }
 ],
 "metadata": {
  "anaconda-cloud": {},
  "kernelspec": {
   "display_name": "Python 3",
   "language": "python",
   "name": "python3"
  },
  "language_info": {
   "codemirror_mode": {
    "name": "ipython",
    "version": 3
   },
   "file_extension": ".py",
   "mimetype": "text/x-python",
   "name": "python",
   "nbconvert_exporter": "python",
   "pygments_lexer": "ipython3",
   "version": "3.6.9"
  }
 },
 "nbformat": 4,
 "nbformat_minor": 2
}
